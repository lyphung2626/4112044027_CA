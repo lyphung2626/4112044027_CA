{
  "nbformat": 4,
  "nbformat_minor": 0,
  "metadata": {
    "colab": {
      "provenance": []
    },
    "kernelspec": {
      "name": "python3",
      "display_name": "Python 3"
    },
    "language_info": {
      "name": "python"
    }
  },
  "cells": [
    {
      "cell_type": "code",
      "execution_count": 1,
      "metadata": {
        "colab": {
          "base_uri": "https://localhost:8080/"
        },
        "id": "PcxWT0JPw5Vm",
        "outputId": "2acf12d2-acdb-4ccb-f5f3-eb01b9fddd79"
      },
      "outputs": [
        {
          "output_type": "stream",
          "name": "stdout",
          "text": [
            "meat:\n",
            "(1, 'chicken', 30, 30)\n",
            "(2, 'beaf', 55, 10)\n",
            "(3, 'pork', 35, 15)\n"
          ]
        }
      ],
      "source": [
        "import sqlite3\n",
        "conn = sqlite3.connect('BBQ.db')\n",
        "cursor = conn.cursor()\n",
        "cursor.execute('''\n",
        "  CREATE TABLE IF NOT EXISTS meat (\n",
        "   id INTEGER PRIMARY KEY,\n",
        "   name TEXT,\n",
        "   price INTEGER,\n",
        "   quantity INTEGER\n",
        "  )''')\n",
        "cursor.execute(\"INSERT INTO meat (name, price, quantity) VALUES ('chicken', 30, 5)\")\n",
        "conn.commit()\n",
        "cursor.execute(\"INSERT INTO meat (name, price, quantity) VALUES ('beaf', 55, 10)\")\n",
        "conn.commit()\n",
        "cursor.execute(\"INSERT INTO meat (name, price, quantity) VALUES ('pork', 40, 15)\")\n",
        "conn.commit()\n",
        "cursor.execute(\"UPDATE meat SET price = 35 WHERE name = 'pork'\")\n",
        "cursor.execute(\"UPDATE meat SET quantity = 30 WHERE name = 'chicken'\")\n",
        "cursor.execute(\"SELECT * FROM meat\")\n",
        "meat = cursor.fetchall()\n",
        "print(\"meat:\")\n",
        "for BBQ in meat:\n",
        "    print(BBQ)\n",
        "cursor.execute(\"DELETE FROM meat WHERE price = '40'\")\n",
        "conn.commit()\n",
        "conn.close()"
      ]
    }
  ]
}
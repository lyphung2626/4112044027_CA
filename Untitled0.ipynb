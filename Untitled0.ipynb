{
  "nbformat": 4,
  "nbformat_minor": 0,
  "metadata": {
    "colab": {
      "provenance": []
    },
    "kernelspec": {
      "name": "python3",
      "display_name": "Python 3"
    },
    "language_info": {
      "name": "python"
    }
  },
  "cells": [
    {
      "cell_type": "code",
      "execution_count": null,
      "metadata": {
        "id": "d7uF8PBmmCjT"
      },
      "outputs": [],
      "source": [
        "def memory_addressing(page_table,page_size,logical_address):\n",
        " page_number,offset = divmod(logical_address,page_size)\n",
        " if page_number in page_table:\n",
        "  frame_number = page_table[page_number]\n",
        "  physical_address = frame_number * page_size + offset\n",
        "  print(f\"The physical address is {physical_address}\")\n",
        " else:\n",
        "  print(\"Invalid page number,address translation faled.\")\n",
        " page_table = {0;5,1;9,2:14}\n",
        " page_size = 4096\n",
        " logical_address = 7000\n",
        " memory_addressing(page_table,page_size,logical_address)"
      ]
    }
  ]
}